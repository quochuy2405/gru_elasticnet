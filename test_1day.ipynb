{
 "cells": [
  {
   "cell_type": "code",
   "execution_count": 111,
   "metadata": {},
   "outputs": [],
   "source": [
    "from csv import writer\n",
    "from keras.models import load_model\n",
    "from sklearn.preprocessing import MinMaxScaler\n",
    "import matplotlib.pyplot as plt\n",
    "import datetime as dt\n",
    "import pandas as pd\n",
    "import numpy as np\n",
    "import pickle\n",
    "import tensorflow as tf\n",
    "tf.config.experimental.list_physical_devices('GPU')\n",
    "\n",
    " # list of column names\n",
    "field_names = ['formatted_date', 'high', 'low',\n",
    "            'open', 'close', 'volume', 'adjclose']\n",
    "            \n",
    "pre_day = 1\n",
    "\n",
    "MA_1 = 7\n",
    "MA_2 = 14\n",
    "MA_3 = 21\n",
    "\n",
    "cols_y_close = ['close']\n",
    "cols_y_open = ['open']\n",
    "cols_y_high = ['high']\n",
    "cols_y_low = ['low']\n",
    "\n",
    "\n",
    "\n",
    "cols_x_close = ['low', 'open', 'high', 'H-L', f'SMA_{MA_1}_close', f'SMA_{MA_2}_close', f'SMA_{MA_3}_close', f'SD_{MA_1}_close',f'SD_{MA_3}_close']\n",
    "cols_x_open = ['high', 'low', 'close', 'H-L', f'SMA_{MA_1}_open', f'SMA_{MA_2}_open', f'SMA_{MA_3}_open', f'SD_{MA_1}_open',f'SD_{MA_3}_open']\n",
    "cols_x_high = ['low', 'open', 'close', 'O-C', f'SMA_{MA_1}_high', f'SMA_{MA_2}_high', f'SMA_{MA_3}_high', f'SD_{MA_1}_high',f'SD_{MA_3}_high']\n",
    "cols_x_low = ['high', 'open', 'close', 'O-C', f'SMA_{MA_1}_low', f'SMA_{MA_2}_low', f'SMA_{MA_3}_low', f'SD_{MA_1}_low',f'SD_{MA_3}_low']\n",
    "\n",
    "scala_x = MinMaxScaler(feature_range=(0,1))\n",
    "scala_y = MinMaxScaler(feature_range=(0,1))\n"
   ]
  },
  {
   "cell_type": "code",
   "execution_count": 112,
   "metadata": {},
   "outputs": [],
   "source": [
    "def loadModel():\n",
    "    model_close = load_model(\"./models/GRU/GRU_CLOSE.h5\")\n",
    "    model_open = load_model(\"./models/GRU/GRU_OPEN.h5\")\n",
    "    model_high = load_model(\"./models/GRU/GRU_HIGH.h5\")\n",
    "    model_low = load_model(\"./models/GRU/GRU_LOW.h5\")\n",
    "    return model_close,model_open ,model_high ,model_low\n",
    "\n",
    "\n",
    "def loadModelError():\n",
    "    model_error_close = pickle.load(open(\"./models/ELASTICNET/elasticnet_close.h5\",'rb'))\n",
    "    model_error_open = pickle.load(open(\"./models/ELASTICNET/elasticnet_open.h5\",'rb'))\n",
    "    model_error_high = pickle.load(open(\"./models/ELASTICNET/elasticnet_high.h5\",'rb'))\n",
    "    model_error_low = pickle.load(open(\"./models/ELASTICNET/elasticnet_low.h5\",'rb'))\n",
    "    return model_error_close,model_error_open ,model_error_high ,model_error_low\n",
    "def processingData(df,cols_y_close,cols_y_open,cols_y_high,cols_y_low):\n",
    "\n",
    "    scaled_data_x_close = scala_x.fit_transform(df[cols_x_close].values.reshape(-1, len(cols_x_close)))\n",
    "    scaled_data_x_open = scala_x.fit_transform(df[cols_x_open].values.reshape(-1, len(cols_x_open)))\n",
    "    scaled_data_x_high = scala_x.fit_transform(df[cols_x_high].values.reshape(-1, len(cols_x_high)))\n",
    "    scaled_data_x_low = scala_x.fit_transform(df[cols_x_low].values.reshape(-1, len(cols_x_low)))\n",
    "\n",
    "    scaled_data_y_close = scala_y.fit_transform(df[cols_y_close].values.reshape(-1, len(cols_y_close)))\n",
    "    scaled_data_y_open = scala_y.fit_transform(df[cols_y_open].values.reshape(-1, len(cols_y_open)))\n",
    "    scaled_data_y_high = scala_y.fit_transform(df[cols_y_high].values.reshape(-1, len(cols_y_high)))\n",
    "    scaled_data_y_low = scala_y.fit_transform(df[cols_y_low].values.reshape(-1, len(cols_y_low)))\n",
    "    return scaled_data_x_close,scaled_data_x_open,scaled_data_x_high,scaled_data_x_low,scaled_data_y_close,scaled_data_y_open,scaled_data_y_high,scaled_data_y_low,scala_x,scala_y\n",
    "\n",
    "def predict(df, cols_x, model,error_model):\n",
    "    pre_day = 1\n",
    "    scaled_data_x = scala_x.fit_transform(df[len(df)-pre_day:][cols_x].values.reshape(-1, len(cols_x)))  \n",
    "    x_last=np.array([scaled_data_x])\n",
    "  \n",
    "    predict = model.predict(x_last)\n",
    "    predict_price = scala_y.inverse_transform(predict)\n",
    "    print(predict_price)\n",
    "    # predict_error= error_model.predict(np.array(predict_price).reshape(-1,1))[0]\n",
    "    return predict_price\n"
   ]
  },
  {
   "cell_type": "code",
   "execution_count": 113,
   "metadata": {},
   "outputs": [],
   "source": [
    "model_close,model_open ,model_high ,model_low=loadModel()\n",
    "model_error_close,model_error_open ,model_error_high ,model_error_low= loadModelError()\n",
    "\n",
    "\n",
    "df3 = pd.read_csv(\"./btc_pred_process.csv\")\n",
    "scaled_data_x_close,scaled_data_x_open,scaled_data_x_high,scaled_data_x_low,scaled_data_y_close,scaled_data_y_open,scaled_data_y_high,scaled_data_y_low,scala_x,scala_y=processingData(df3,cols_y_close,cols_y_open,cols_y_high,cols_y_low)\n",
    "\n",
    "\n"
   ]
  },
  {
   "cell_type": "code",
   "execution_count": 114,
   "metadata": {},
   "outputs": [
    {
     "name": "stdout",
     "output_type": "stream",
     "text": [
      "1/1 [==============================] - 1s 1s/step\n",
      "[[3289.174]]\n"
     ]
    }
   ],
   "source": [
    "# low_pred = predict(df3, cols_x_low, model_low,model_error_low) \n",
    "close_pred = predict(df3, cols_x_close, model_close,model_error_close) \n",
    "# open_pred = predict(df3, cols_x_open, model_open,model_error_open) \n",
    "# high_pred = predict(df3, cols_x_high, model_high,model_error_high) \n",
    "\n",
    "# print(low_pred,close_pred,open_pred,high_pred)"
   ]
  }
 ],
 "metadata": {
  "kernelspec": {
   "display_name": "Python 3",
   "language": "python",
   "name": "python3"
  },
  "language_info": {
   "codemirror_mode": {
    "name": "ipython",
    "version": 3
   },
   "file_extension": ".py",
   "mimetype": "text/x-python",
   "name": "python",
   "nbconvert_exporter": "python",
   "pygments_lexer": "ipython3",
   "version": "3.10.10"
  },
  "orig_nbformat": 4
 },
 "nbformat": 4,
 "nbformat_minor": 2
}
